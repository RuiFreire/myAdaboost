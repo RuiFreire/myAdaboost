{
 "cells": [
  {
   "cell_type": "markdown",
   "metadata": {},
   "source": [
    "##### Load and clean LoanStat3a.csv data.\n",
    "\n",
    "Loans issued by lendingclub.com from 2007-2011 with performance data.\n",
    "LendingClub is a US peer-to-peer lending company.\n",
    "This is the typical problem of risk credit. \n",
    "The global objective is to first clean the data, and then use the various features to create \n",
    "a model so we can predict the target variable \"loan_status\"(loan fully paid or charged off)."
   ]
  },
  {
   "cell_type": "code",
   "execution_count": 43,
   "metadata": {
    "collapsed": false
   },
   "outputs": [
    {
     "name": "stdout",
     "output_type": "stream",
     "text": [
      "(39707, 38)\n"
     ]
    }
   ],
   "source": [
    "import pandas as pd\n",
    "import numpy as np\n",
    "\n",
    "loans = pd.read_csv('LoanStats3a.csv', skiprows=1, low_memory=False)\n",
    "\n",
    "half_count = len(loans) / 2\n",
    "loans = loans.dropna(thresh=half_count, axis=1)\n",
    "loans = loans.drop(['desc', 'url'],axis=1)\n",
    "\n",
    "colsToDrop = [\"id\", \"member_id\", \"funded_amnt\", \"funded_amnt_inv\", \"grade\", \"sub_grade\", \"emp_title\", \"issue_d\"]\n",
    "    \n",
    "loans = loans.drop(colsToDrop, axis=1)\n",
    "        \n",
    "colsToDrop = [\"zip_code\", \"out_prncp\", \"out_prncp_inv\", \"total_pymnt\", \"total_pymnt_inv\", \"total_rec_prncp\"]\n",
    "    \n",
    "loans = loans.drop(colsToDrop, axis=1) \n",
    "\n",
    "colsToDrop = [\"total_rec_int\", \"total_rec_late_fee\", \"recoveries\", \"collection_recovery_fee\", \"last_pymnt_d\", \"last_pymnt_amnt\"]\n",
    "\n",
    "loans = loans.drop(colsToDrop, axis=1)\n",
    "    \n",
    "loans.loan_status.value_counts()\n",
    "\n",
    "loans = loans[ (loans.loan_status == \"Fully Paid\") | (loans.loan_status == \"Charged Off\") ]\n",
    "\n",
    "mapping_dict = {\n",
    "    \"loan_status\": {\n",
    "        \"Fully Paid\": 0, # NOTA: o classificador myAdaboost aceita qualquer tipo de dados como label\n",
    "        \"Charged Off\": 1\n",
    "    }\n",
    "}\n",
    "\n",
    "loans.replace(mapping_dict, inplace=True)\n",
    "\n",
    "drop_columns = []\n",
    "\n",
    "cols = list(loans.columns)\n",
    "\n",
    "for col in cols:\n",
    "    non_null = loans[col].dropna()\n",
    "    unique_non_null = non_null.unique()\n",
    "    if len(unique_non_null) == 1:\n",
    "        drop_columns.append(col)\n",
    "        \n",
    "loans = loans.drop(drop_columns, axis = 1)\n",
    "\n",
    "loans = loans.drop(\"pub_rec_bankruptcies\", axis=1)\n",
    "loans = loans.dropna(subset=[\"title\", \"revol_util\", \"last_credit_pull_d\"])\n",
    "\n",
    "mapping_dict = {\n",
    "    \"emp_length\": {\n",
    "        \"10+ years\": 10,\n",
    "        \"9 years\": 9,\n",
    "        \"8 years\": 8,\n",
    "        \"7 years\": 7,\n",
    "        \"6 years\": 6,\n",
    "        \"5 years\": 5,\n",
    "        \"4 years\": 4,\n",
    "        \"3 years\": 3,\n",
    "        \"2 years\": 2,\n",
    "        \"1 year\": 1,\n",
    "        \"< 1 year\": 0,\n",
    "    }\n",
    "}\n",
    "\n",
    "loans.replace(mapping_dict, inplace=True)\n",
    "\n",
    "loans[\"emp_length\"].fillna(0, inplace=True)\n",
    "\n",
    "loans = loans.drop([\"last_credit_pull_d\", \"earliest_cr_line\", \"addr_state\", \"title\"], axis=1)\n",
    "\n",
    "loans[\"revol_util\"] = loans[\"revol_util\"].str.rstrip(\"%\").astype(\"float\")\n",
    "loans[\"int_rate\"] = loans[\"int_rate\"].str.rstrip(\"%\").astype(\"float\")\n",
    "\n",
    "\n",
    "cat_columns = [\"home_ownership\", \"verification_status\", \"purpose\", \"term\"]\n",
    "dummy_df = pd.get_dummies(loans[cat_columns])\n",
    "loans = pd.concat([loans, dummy_df], axis=1)\n",
    "loans = loans.drop(cat_columns, axis=1)\n",
    "\n",
    "loans.reset_index(inplace=True, drop=True)\n",
    "    \n",
    "print(loans.shape)"
   ]
  },
  {
   "cell_type": "markdown",
   "metadata": {},
   "source": [
    "##### Divide the Data in train and test"
   ]
  },
  {
   "cell_type": "code",
   "execution_count": 44,
   "metadata": {
    "collapsed": true
   },
   "outputs": [],
   "source": [
    "from sklearn.model_selection import train_test_split\n",
    "from sklearn.metrics import confusion_matrix\n",
    "from sklearn.metrics import roc_auc_score\n",
    "import pandas as pd\n",
    "import numpy as np\n",
    "from myAdaboost import *\n",
    "\n",
    "features_cols = list(loans.columns)\n",
    "features_cols.remove(\"loan_status\")\n",
    "features = loans[features_cols].copy(deep=True)\n",
    "target = loans[\"loan_status\"].copy(deep=True)\n",
    "\n",
    "X_train, X_test, y_train, y_test = train_test_split(features, target, test_size=0.33, random_state=1)\n"
   ]
  },
  {
   "cell_type": "markdown",
   "metadata": {},
   "source": [
    "##### Create a prediction model using myAdaboost classifier and test it"
   ]
  },
  {
   "cell_type": "code",
   "execution_count": 45,
   "metadata": {
    "collapsed": false,
    "scrolled": true
   },
   "outputs": [
    {
     "name": "stdout",
     "output_type": "stream",
     "text": [
      "Iteration:49 | error:0.489088061549 | alpha:0.0218273426628\n",
      "\n",
      "[[7294 3961]\n",
      " [ 715 1134]]\n",
      "\n",
      "AUC Score (Test): 0.686664\n"
     ]
    }
   ],
   "source": [
    "\n",
    "from sklearn.tree import DecisionTreeClassifier\n",
    "from myAdaboost import *\n",
    "\n",
    "thresh = 0.5\n",
    "\n",
    "myAdaB = myAdaboost(threshold = thresh, \n",
    "                    number_of_iterations=50, \n",
    "                    classifier = DecisionTreeClassifier(max_depth=1))\n",
    "myAdaB.fit( X_train, y_train )\n",
    "predictions_prob = myAdaB.predict_proba(X_test)[:,1]\n",
    "\n",
    "print(\"\\n\")\n",
    "\n",
    "predictions = myAdaB.predict(X_test)\n",
    "\n",
    "print(confusion_matrix( y_test, predictions) ) \n",
    "\n",
    "print(\"\\nAUC Score (Test): %f\" % roc_auc_score(y_test, predictions_prob) )\n"
   ]
  },
  {
   "cell_type": "markdown",
   "metadata": {},
   "source": [
    "##### Create a prediction model using sklearn AdaBoostClassifier"
   ]
  },
  {
   "cell_type": "code",
   "execution_count": 33,
   "metadata": {
    "collapsed": false
   },
   "outputs": [
    {
     "name": "stdout",
     "output_type": "stream",
     "text": [
      "\n",
      "\n",
      "[[11211    44]\n",
      " [ 1797    52]]\n",
      "\n",
      "AUC Score (Test): 0.693145\n"
     ]
    }
   ],
   "source": [
    "from sklearn.ensemble import AdaBoostClassifier\n",
    "\n",
    "adb = AdaBoostClassifier(base_estimator=DecisionTreeClassifier(max_depth=1), \n",
    "                         n_estimators=50, learning_rate=1.0, \n",
    "                         algorithm=\"SAMME.R\", random_state=None)\n",
    "\n",
    "adb.fit( X_train, y_train )\n",
    "predictions_prob = adb.predict_proba(X_test)[:,1]\n",
    "\n",
    "print(\"\\n\")\n",
    "\n",
    "predictions = adb.predict(X_test)\n",
    "\n",
    "print(confusion_matrix( y_test, predictions) ) \n",
    "\n",
    "print(\"\\nAUC Score (Test): %f\" % roc_auc_score(y_test, predictions_prob) )"
   ]
  },
  {
   "cell_type": "markdown",
   "metadata": {},
   "source": [
    "##### Create a prediction model using sklearn LogisticRegression classifier"
   ]
  },
  {
   "cell_type": "code",
   "execution_count": 34,
   "metadata": {
    "collapsed": false
   },
   "outputs": [
    {
     "name": "stdout",
     "output_type": "stream",
     "text": [
      "\n",
      "\n",
      "[[8317 2938]\n",
      " [ 883  966]]\n",
      "\n",
      "AUC Score (Test): 0.690932\n"
     ]
    }
   ],
   "source": [
    "from sklearn.linear_model import LogisticRegression\n",
    "\n",
    "penalty = {\n",
    "    0:1,\n",
    "    1:5\n",
    "}\n",
    "\n",
    "lr = LogisticRegression(class_weight = penalty)\n",
    "lr.fit(X_train, y_train)\n",
    "\n",
    "predictions_prob = lr.predict_proba(X_test)[:,1]\n",
    "\n",
    "print(\"\\n\")\n",
    "\n",
    "predictions = lr.predict(X_test)\n",
    "\n",
    "print(confusion_matrix( y_test, predictions) ) \n",
    "\n",
    "print(\"\\nAUC Score (Test): %f\" % roc_auc_score(y_test, predictions_prob) )"
   ]
  },
  {
   "cell_type": "markdown",
   "metadata": {},
   "source": [
    "#### Conclusion\n",
    "\n",
    "The various algorithms did not differ to much in the final result, althoug the\n",
    "Logistic Regression with penalty had the best performance\n",
    "It's also noticeable that the myAdaboost algorithm had only a sligthly worse \n",
    "performence comparing with the Adaboost Classifier from the sklearn library."
   ]
  }
 ],
 "metadata": {
  "anaconda-cloud": {},
  "kernelspec": {
   "display_name": "Python [default]",
   "language": "python",
   "name": "python3"
  },
  "language_info": {
   "codemirror_mode": {
    "name": "ipython",
    "version": 3
   },
   "file_extension": ".py",
   "mimetype": "text/x-python",
   "name": "python",
   "nbconvert_exporter": "python",
   "pygments_lexer": "ipython3",
   "version": "3.5.2"
  }
 },
 "nbformat": 4,
 "nbformat_minor": 1
}
